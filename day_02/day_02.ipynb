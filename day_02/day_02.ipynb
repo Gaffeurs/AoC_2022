{
 "cells": [
  {
   "cell_type": "code",
   "execution_count": 4,
   "outputs": [],
   "source": [
    "import os\n",
    "import sys\n",
    "import pandas as pd\n",
    "import numpy as np\n",
    "from dataclasses import dataclass, field\n",
    "from enum import Enum"
   ],
   "metadata": {
    "collapsed": false,
    "pycharm": {
     "name": "#%%\n"
    }
   }
  },
  {
   "cell_type": "code",
   "execution_count": 8,
   "outputs": [
    {
     "data": {
      "text/plain": "[['C', 'Y'], ['B', 'Y'], ['C', 'Y']]"
     },
     "execution_count": 8,
     "metadata": {},
     "output_type": "execute_result"
    }
   ],
   "source": [
    "with open(\"./input.txt\", mode =\"r\") as f:\n",
    "    text = f.readlines()\n",
    "parsed_data = list(map(lambda x:x.strip().split(\" \"), text))\n",
    "parsed_data[:3]"
   ],
   "metadata": {
    "collapsed": false,
    "pycharm": {
     "name": "#%%\n"
    }
   }
  },
  {
   "cell_type": "code",
   "execution_count": 15,
   "outputs": [],
   "source": [
    "class Game(Enum):\n",
    "    rock = 1\n",
    "    paper = 2\n",
    "    scissors = 3\n",
    "\n",
    "\n",
    "class GameIssue(Enum):\n",
    "    lost = 0\n",
    "    draw = 3\n",
    "    win = 6\n",
    "\n",
    "\n",
    "@dataclass\n",
    "class RockPaperScissors:\n",
    "    opponent: str\n",
    "    myself: str\n",
    "    opponent_clean: Game = field(init=False)\n",
    "    myself_clean: Game = field(init=False)\n",
    "\n",
    "    def __post_init__(self):\n",
    "        self.opponent_clean = self.convert_opponent()\n",
    "        self.myself_clean = self.convert_myself()\n",
    "\n",
    "    def convert_myself(self):\n",
    "        if self.myself == \"X\":\n",
    "            return Game.rock\n",
    "        elif self.myself == \"Y\":\n",
    "            return Game.paper\n",
    "        elif self.myself == \"Z\":\n",
    "            return Game.scissors\n",
    "\n",
    "    def convert_opponent(self):\n",
    "        if self.opponent == \"A\":\n",
    "            return Game.rock\n",
    "        elif self.opponent == \"B\":\n",
    "            return Game.paper\n",
    "        elif self.opponent == \"C\":\n",
    "            return Game.scissors\n",
    "\n",
    "    def get_nb_points(self):\n",
    "        if self.myself_clean == self.opponent_clean:\n",
    "            return self.myself_clean.value + GameIssue.draw.value\n",
    "        elif (self.myself_clean == Game.rock and self.opponent_clean == Game.paper) or \\\n",
    "                (self.myself_clean == Game.paper and self.opponent_clean == Game.scissors) or \\\n",
    "                (self.myself_clean == Game.scissors and self.opponent_clean == Game.rock):\n",
    "            return self.myself_clean.value + GameIssue.lost.value\n",
    "        else:\n",
    "            return self.myself_clean.value + GameIssue.win.value"
   ],
   "metadata": {
    "collapsed": false,
    "pycharm": {
     "name": "#%%\n"
    }
   }
  },
  {
   "cell_type": "code",
   "execution_count": 17,
   "outputs": [
    {
     "data": {
      "text/plain": "9759"
     },
     "execution_count": 17,
     "metadata": {},
     "output_type": "execute_result"
    }
   ],
   "source": [
    "nb_points = 0\n",
    "\n",
    "for a_game in parsed_data:\n",
    "    nb_points_tmp = RockPaperScissors(*a_game).get_nb_points()\n",
    "    nb_points += nb_points_tmp\n",
    "nb_points"
   ],
   "metadata": {
    "collapsed": false,
    "pycharm": {
     "name": "#%%\n"
    }
   }
  },
  {
   "cell_type": "code",
   "execution_count": 14,
   "outputs": [],
   "source": [],
   "metadata": {
    "collapsed": false,
    "pycharm": {
     "name": "#%%\n"
    }
   }
  },
  {
   "cell_type": "markdown",
   "source": [
    "### test 2"
   ],
   "metadata": {
    "collapsed": false,
    "pycharm": {
     "name": "#%% md\n"
    }
   }
  },
  {
   "cell_type": "code",
   "execution_count": 20,
   "outputs": [],
   "source": [
    "\n",
    "\n",
    "@dataclass\n",
    "class RockPaperScissorsv2:\n",
    "    opponent: str\n",
    "    game_issue: str\n",
    "    opponent_clean: Game = field(init=False)\n",
    "    game_issue_clean: Game = field(init=False)\n",
    "    myself_clean: Game = field(init=False)\n",
    "\n",
    "    def __post_init__(self):\n",
    "        self.opponent_clean = self.convert_opponent()\n",
    "        self.game_issue_clean = self.convert_game_issue()\n",
    "        self.myself_clean = self.get_myself_clean()\n",
    "\n",
    "    def convert_game_issue(self):\n",
    "        if self.game_issue == \"X\":\n",
    "            return GameIssue.lost\n",
    "        elif self.game_issue == \"Y\":\n",
    "            return GameIssue.draw\n",
    "        elif self.game_issue == \"Z\":\n",
    "            return GameIssue.win\n",
    "\n",
    "    def convert_opponent(self):\n",
    "        if self.opponent == \"A\":\n",
    "            return Game.rock\n",
    "        elif self.opponent == \"B\":\n",
    "            return Game.paper\n",
    "        elif self.opponent == \"C\":\n",
    "            return Game.scissors\n",
    "\n",
    "    def get_myself_clean(self):\n",
    "        if self.opponent_clean == Game.rock:\n",
    "            if self.game_issue_clean == GameIssue.lost:\n",
    "                return Game.scissors\n",
    "            elif self.game_issue_clean == GameIssue.draw:\n",
    "                return Game.rock\n",
    "            else:\n",
    "                return Game.paper\n",
    "        elif self.opponent_clean == Game.paper:\n",
    "            if self.game_issue_clean == GameIssue.lost:\n",
    "                return Game.rock\n",
    "            elif self.game_issue_clean == GameIssue.draw:\n",
    "                return Game.paper\n",
    "            else:\n",
    "                return Game.scissors\n",
    "        elif self.opponent_clean == Game.scissors:\n",
    "            if self.game_issue_clean == GameIssue.lost:\n",
    "                return Game.paper\n",
    "            elif self.game_issue_clean == GameIssue.draw:\n",
    "                return Game.scissors\n",
    "            else:\n",
    "                return Game.rock\n",
    "\n",
    "\n",
    "    def get_nb_points(self):\n",
    "        if self.myself_clean == self.opponent_clean:\n",
    "            return self.myself_clean.value + GameIssue.draw.value\n",
    "        elif (self.myself_clean == Game.rock and self.opponent_clean == Game.paper) or \\\n",
    "                (self.myself_clean == Game.paper and self.opponent_clean == Game.scissors) or \\\n",
    "                (self.myself_clean == Game.scissors and self.opponent_clean == Game.rock):\n",
    "            return self.myself_clean.value + GameIssue.lost.value\n",
    "        else:\n",
    "            return self.myself_clean.value + GameIssue.win.value"
   ],
   "metadata": {
    "collapsed": false,
    "pycharm": {
     "name": "#%%\n"
    }
   }
  },
  {
   "cell_type": "code",
   "execution_count": 22,
   "outputs": [
    {
     "data": {
      "text/plain": "12429"
     },
     "execution_count": 22,
     "metadata": {},
     "output_type": "execute_result"
    }
   ],
   "source": [
    "nb_points = 0\n",
    "\n",
    "for a_game in parsed_data:\n",
    "    nb_points_tmp = RockPaperScissorsv2(*a_game).get_nb_points()\n",
    "    nb_points += nb_points_tmp\n",
    "nb_points"
   ],
   "metadata": {
    "collapsed": false,
    "pycharm": {
     "name": "#%%\n"
    }
   }
  },
  {
   "cell_type": "code",
   "execution_count": null,
   "outputs": [],
   "source": [],
   "metadata": {
    "collapsed": false,
    "pycharm": {
     "name": "#%%\n"
    }
   }
  }
 ],
 "metadata": {
  "kernelspec": {
   "display_name": "Python 3",
   "language": "python",
   "name": "python3"
  },
  "language_info": {
   "codemirror_mode": {
    "name": "ipython",
    "version": 2
   },
   "file_extension": ".py",
   "mimetype": "text/x-python",
   "name": "python",
   "nbconvert_exporter": "python",
   "pygments_lexer": "ipython2",
   "version": "2.7.6"
  }
 },
 "nbformat": 4,
 "nbformat_minor": 0
}
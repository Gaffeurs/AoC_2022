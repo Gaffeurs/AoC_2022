{
 "cells": [
  {
   "cell_type": "code",
   "execution_count": 54,
   "outputs": [],
   "source": [
    "import os\n",
    "import sys\n",
    "import pandas as pd\n",
    "import numpy as np\n",
    "import string"
   ],
   "metadata": {
    "collapsed": false,
    "pycharm": {
     "name": "#%%\n"
    }
   }
  },
  {
   "cell_type": "code",
   "execution_count": 55,
   "outputs": [
    {
     "data": {
      "text/plain": "['DPstqDdrsqdDtqrFDJDDrmtsJHflSJCLgCphgHHgRHJCRRff',\n 'BcBGcQzVBVZcvznTTTvZcGTpCRRRfRCggLflHlhhCZpZCj',\n 'vGQnQvnzTzNTTbVnzGBqMqwqDLdPtMmbwqqLLM']"
     },
     "execution_count": 55,
     "metadata": {},
     "output_type": "execute_result"
    }
   ],
   "source": [
    "with open(\"./input.txt\", mode =\"r\") as f:\n",
    "    text = f.readlines()\n",
    "parsed_data = list(map(lambda x:x.strip(), text))\n",
    "parsed_data[:3]"
   ],
   "metadata": {
    "collapsed": false,
    "pycharm": {
     "name": "#%%\n"
    }
   }
  },
  {
   "cell_type": "code",
   "execution_count": 56,
   "outputs": [],
   "source": [
    "lowercase_values = {x:(ord(x) - 96) for x in string.ascii_lowercase}\n",
    "uppercase_values = {x:(ord(x) - 38) for x in string.ascii_uppercase}\n",
    "letter_values = lowercase_values | uppercase_values"
   ],
   "metadata": {
    "collapsed": false,
    "pycharm": {
     "name": "#%%\n"
    }
   }
  },
  {
   "cell_type": "code",
   "execution_count": 57,
   "outputs": [
    {
     "name": "stdout",
     "output_type": "stream",
     "text": [
      "value=7817\n"
     ]
    }
   ],
   "source": [
    "value = 0\n",
    "for a_line in parsed_data:\n",
    "    comp1,comp2 = a_line[:int(len(a_line)/2)],a_line[int(len(a_line)/2):]\n",
    "    dico_1 = {}\n",
    "    dico_2 = {}\n",
    "    for char in comp1:\n",
    "        dico_1[char] = dico_1.get(char, 0) + 1\n",
    "    for char2 in comp2:\n",
    "        dico_2[char2] = dico_2.get(char2, 0) +1\n",
    "    common_letter = set(dico_1.keys()) & set(dico_2.keys())\n",
    "    assert len(common_letter)==1\n",
    "    value +=letter_values[list(common_letter)[0]]\n",
    "print(f\"{value=}\")"
   ],
   "metadata": {
    "collapsed": false,
    "pycharm": {
     "name": "#%%\n"
    }
   }
  },
  {
   "cell_type": "markdown",
   "source": [
    "## Test 2"
   ],
   "metadata": {
    "collapsed": false,
    "pycharm": {
     "name": "#%% md\n"
    }
   }
  },
  {
   "cell_type": "code",
   "execution_count": 72,
   "outputs": [],
   "source": [
    "from itertools import islice\n",
    "import functools"
   ],
   "metadata": {
    "collapsed": false,
    "pycharm": {
     "name": "#%%\n"
    }
   }
  },
  {
   "cell_type": "code",
   "execution_count": 87,
   "outputs": [
    {
     "data": {
      "text/plain": "[['DPstqDdrsqdDtqrFDJDDrmtsJHflSJCLgCphgHHgRHJCRRff',\n  'BcBGcQzVBVZcvznTTTvZcGTpCRRRfRCggLflHlhhCZpZCj',\n  'vGQnQvnzTzNTTbVnzGBqMqwqDLdPtMmbwqqLLM'],\n ['wLRFRqvFsFRjfrHddbdbjzdH',\n  'lcsnSJPSSVVlGmGrHzbbrGNrdzbz',\n  'mSmlnnPlmJmncVDSlSZSlmLBCvtwBvtLCqqswsDBCTWW'],\n ['pfqPrPgmmhvqdlsdWq', 'nfjHLJfZcLbVtQWWtndhls', 'CzJJFLzRzfDwrmggpC']]"
     },
     "execution_count": 87,
     "metadata": {},
     "output_type": "execute_result"
    }
   ],
   "source": [
    "iteration_parsed_data = iter(parsed_data)\n",
    "parsed_datav2 = [list(islice(iteration_parsed_data, elem)) for elem in [3] * int(len(parsed_data)/3)]\n",
    "parsed_datav2[:3]"
   ],
   "metadata": {
    "collapsed": false,
    "pycharm": {
     "name": "#%%\n"
    }
   }
  },
  {
   "cell_type": "code",
   "execution_count": 88,
   "outputs": [
    {
     "name": "stdout",
     "output_type": "stream",
     "text": [
      "value=2444\n"
     ]
    }
   ],
   "source": [
    "value = 0\n",
    "for a_group in parsed_datav2:\n",
    "    all_values_stored = [{} for i in range(3)]\n",
    "    for i,a_line in enumerate(a_group[:3]):\n",
    "        for char in a_line:\n",
    "            all_values_stored[i][char] = all_values_stored[i].get(char, 0) + 1\n",
    "    common_letter = functools.reduce(lambda x, y: x & set(y.keys()),  all_values_stored, set(string.ascii_lowercase + string.ascii_uppercase))\n",
    "    assert len(common_letter)==1\n",
    "    value +=letter_values[list(common_letter)[0]]\n",
    "print(f\"{value=}\")"
   ],
   "metadata": {
    "collapsed": false,
    "pycharm": {
     "name": "#%%\n"
    }
   }
  },
  {
   "cell_type": "code",
   "execution_count": null,
   "outputs": [],
   "source": [],
   "metadata": {
    "collapsed": false,
    "pycharm": {
     "name": "#%%\n"
    }
   }
  }
 ],
 "metadata": {
  "kernelspec": {
   "display_name": "Python 3",
   "language": "python",
   "name": "python3"
  },
  "language_info": {
   "codemirror_mode": {
    "name": "ipython",
    "version": 2
   },
   "file_extension": ".py",
   "mimetype": "text/x-python",
   "name": "python",
   "nbconvert_exporter": "python",
   "pygments_lexer": "ipython2",
   "version": "2.7.6"
  }
 },
 "nbformat": 4,
 "nbformat_minor": 0
}
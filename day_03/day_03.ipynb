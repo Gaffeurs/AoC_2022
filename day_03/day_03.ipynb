{
 "cells": [
  {
   "cell_type": "code",
   "execution_count": 54,
   "outputs": [],
   "source": [
    "import os\n",
    "import sys\n",
    "import pandas as pd\n",
    "import numpy as np\n",
    "import string"
   ],
   "metadata": {
    "collapsed": false,
    "pycharm": {
     "name": "#%%\n"
    }
   }
  },
  {
   "cell_type": "code",
   "execution_count": 55,
   "outputs": [
    {
     "data": {
      "text/plain": "['DPstqDdrsqdDtqrFDJDDrmtsJHflSJCLgCphgHHgRHJCRRff',\n 'BcBGcQzVBVZcvznTTTvZcGTpCRRRfRCggLflHlhhCZpZCj',\n 'vGQnQvnzTzNTTbVnzGBqMqwqDLdPtMmbwqqLLM']"
     },
     "execution_count": 55,
     "metadata": {},
     "output_type": "execute_result"
    }
   ],
   "source": [
    "with open(\"./input.txt\", mode =\"r\") as f:\n",
    "    text = f.readlines()\n",
    "parsed_data = list(map(lambda x:x.strip(), text))\n",
    "parsed_data[:3]"
   ],
   "metadata": {
    "collapsed": false,
    "pycharm": {
     "name": "#%%\n"
    }
   }
  },
  {
   "cell_type": "code",
   "execution_count": 56,
   "outputs": [],
   "source": [
    "lowercase_values = {x:(ord(x) - 96) for x in string.ascii_lowercase}\n",
    "uppercase_values = {x:(ord(x) - 38) for x in string.ascii_uppercase}\n",
    "letter_values = lowercase_values | uppercase_values"
   ],
   "metadata": {
    "collapsed": false,
    "pycharm": {
     "name": "#%%\n"
    }
   }
  },
  {
   "cell_type": "code",
   "execution_count": 57,
   "outputs": [
    {
     "name": "stdout",
     "output_type": "stream",
     "text": [
      "value=7817\n"
     ]
    }
   ],
   "source": [
    "value = 0\n",
    "for a_line in parsed_data:\n",
    "    comp1,comp2 = a_line[:int(len(a_line)/2)],a_line[int(len(a_line)/2):]\n",
    "    dico_1 = {}\n",
    "    dico_2 = {}\n",
    "    for char in comp1:\n",
    "        dico_1[char] = dico_1.get(char, 0) + 1\n",
    "    for char2 in comp2:\n",
    "        dico_2[char2] = dico_2.get(char2, 0) +1\n",
    "    common_letter = set(dico_1.keys()) & set(dico_2.keys())\n",
    "    assert len(common_letter)==1\n",
    "    value +=letter_values[list(common_letter)[0]]\n",
    "print(f\"{value=}\")"
   ],
   "metadata": {
    "collapsed": false,
    "pycharm": {
     "name": "#%%\n"
    }
   }
  },
  {
   "cell_type": "markdown",
   "source": [
    "## Test 2"
   ],
   "metadata": {
    "collapsed": false,
    "pycharm": {
     "name": "#%% md\n"
    }
   }
  },
  {
   "cell_type": "code",
   "execution_count": 72,
   "outputs": [],
   "source": [
    "from itertools import islice\n",
    "import functools"
   ],
   "metadata": {
    "collapsed": false,
    "pycharm": {
     "name": "#%%\n"
    }
   }
  },
  {
   "cell_type": "code",
   "execution_count": 83,
   "outputs": [
    {
     "data": {
      "text/plain": "['DPstqDdrsqdDtqrFDJDDrmtsJHflSJCLgCphgHHgRHJCRRff',\n 'BcBGcQzVBVZcvznTTTvZcGTpCRRRfRCggLflHlhhCZpZCj',\n 'vGQnQvnzTzNTTbVnzGBqMqwqDLdPtMmbwqqLLM',\n 'wLRFRqvFsFRjfrHddbdbjzdH',\n 'lcsnSJPSSVVlGmGrHzbbrGNrdzbz',\n 'mSmlnnPlmJmncVDSlSZSlmLBCvtwBvtLCqqswsDBCTWW',\n 'pfqPrPgmmhvqdlsdWq',\n 'nfjHLJfZcLbVtQWWtndhls',\n 'CzJJFLzRzfDwrmggpC',\n 'CWfllmlCDFlZZqMfmFBWmWLJVRLVwNNtRVGPpwtGpqbJ',\n 'jHndndndcjhscnhHNtRbVtLbGpJbRRcb',\n 'HSrvnQzQSMDlLzBCfg',\n 'BQRVbgQQBJBbBtVBSSSRWMQbdNvvRPjZjCCdPLNZNNsNCCzd',\n 'HwpFpnlGpGZWGvjzPd',\n 'FTDmFrrwDpFMtmQVQQcWgc',\n 'VhbPshVDPDFWhWsgDNMMbVtmBjwBffpwBntnmnqfnswt',\n 'QzzGrTZZdrdlTcCLpRBnmBRRjBCqtptt',\n 'rJdGlmLTJdJrvZDbSbDSWDNbFJgD',\n 'qrcqTBHTcHgwWWdHRjdWBglBbGPpGvvPbszGzsbPpQfPLwPz',\n 'nFVmjhMjFJCSJsQQPQLbLpzCPQ',\n 'SnMSVVZSJMNMZNDVFtJtNRBdqBrWrRHWZTllrrjgHq',\n 'ZqdqcrPqqrwnQqnrZqjVcqrQwwmNbzNzwbNLzvFbHLbNmBLF',\n 'LCDsCsRTfLTDszzNbsbNNHbs',\n 'gLfCgShfCgMPlPrVcqrQgn',\n 'QSNSLDQDLfqqPwwBNLqgqJMMmmRRCTzHnCHhRzHmfCmh',\n 'lGvdbdWdVvsVszpDhHmmlnMpTC',\n 'ctbdtVsbbvvsbWZFdVQJqPtgLQBDBwBQPJwJ',\n 'dggSSDCPddRWPnSSPWRDgdSrTDsDQDTzQGGTMbsMMVsQfTfV',\n 'jmBvtFpBcBhhjljZHphztMsCbsTTCbzsqGqsfz',\n 'hccpLmhFlcwCrPLrCPnL',\n 'MMHZnGrCfJnfCPggSSGGSSSgLW',\n 'qhFhRlDFDlqFsgdvJdWdDdcSvp',\n 'wVlhqTbbRNFqswlVVRNbZfHCrntMBrTTZnJMCfnn',\n 'sHGZscVGHJMtmRrqzRqqqTqt',\n 'SjvvNgjLShWWhhSQNWqmrBzlRllTTgBqnRmq',\n 'LNQWLfWhSQvLdCddWWPHMcbHHrJcDGFZCJssFM',\n 'mSDjSVQbVGbmqDVbHmqqJTZzPHTHhhRJhwsRPcRJ',\n 'tFfFFttFdsNntfpMMppJWwZTzJczJcZPzwWcdJ',\n 'vNtgCrpgNptptgCCbbmjbSbvsVjSsjGG',\n 'VCQlZJCTPRWsBsjTTT',\n 'wvNrnbbvnhdNhLMfGsrGpRFpGpjp',\n 'dwndHbHbbLqwwhNcLsqSHSCHJClQtJSttQDPSJ',\n 'ZlrvrdvpGBBhlDrshdqJHRPHqPTJzRPPqw',\n 'tcftfSgFFgcgLPmPmpnqFwJRHP',\n 'pWLCcWNNNNttMNgZvlsvrBrsrjWDjB',\n 'wgdCJgDMDwMCwDMCMJsJJfpffVpVfbfrrrrgjgllZp',\n 'QFRhvttRthtQzzmpBWbWzWZSVpbSpl',\n 'btRttRLttGNqvbFHLwCdDcMwnPPJDnDD',\n 'VhmMNllLqGLJQNhRfZHgSPfgSPTqZj',\n 'sBwDcwBtsdzvvHZRlPRjDZTgPZ',\n 'pWvvBBcBCdzNLVQVWQlNlW',\n 'NsSppvSjSPNBNLJJLh',\n 'fCGtqQbZZGZQZTbtzbqbCZThddcMBddlJGhdlBMcddgLlJ',\n 'zZFTqwLtTRFqTQwvmprnRVSsDrnvVR',\n 'FttFTzzvlVHFzTjpbvzbFSDDdVGhdqLGWGJdVDDfsLqG',\n 'cmBNCRnwsCcBPMfLLfJGcWhWqfdh',\n 'BwPmZZMmZMCsnrwMrmbHHbjbSvSbjvrlHpzj',\n 'sZQHCBFHQQQPGQCCHCHwsHFshhtSnnqjbRSSPngnhbRjqVPn',\n 'mzLvmDvNNWvNvrzzrMTzJNjqndqbnSnnRgTdtjdbjhTt',\n 'WzzWDlJLzLDvMWJJlMzmLJWcpHFQBpBgBHGQGBHfwwBfQQlG',\n 'gdpFrdrmrDsqqswdtccgWWCMlChSbhqSlCzBlSqh',\n 'TTvjrfjNJPnRQNTQjvNnCSWBVBVbClPSVSbSVhSh',\n 'HRvnfTfvjjHZTDsmcHDsrDsdmp',\n 'bFChjhbpbjqsntjtns',\n 'vdWcfMHfddvrlNMNdWWTNgBqDngBBZBBQZshgSfgnD',\n 'JlwrlrlhlcJWcWMwhWNVFpLzwPbbLRFPppVLzm',\n 'DtBtgLvgcHzllsTwzSTg',\n 'vhhjZrCrZdVdZVSwPMwwTTMGwT',\n 'nmpfqrnZJbqBBvRc',\n 'nMvSLvWSWPVPvWnSLShFLBjVbpNVGGbVQbbNcBcBBc',\n 'sTzJsJszbbQbdQJb',\n 'DsDrwTtsCTFhLQSShRwh',\n 'RNFQhTQqHNNGRsNqQFNsHhFCwwPLwPqwzfPrrPBwpJSJJw',\n 'vMMMblZjddlvWbjbBBfbwCrPPLJppwCL',\n 'jDmvcDBlBdjVglgddmvDQRNFtFRGtQhstHNsGFHV',\n 'rhLHmZnMrRsZSstZLLtZnhSCNbbmPJVcblTNNTlccpNTjJTj',\n 'WFgGddGFFgFDddMblpJjlTJTPc',\n 'QGWqBBfWgBqWwFwzMGvzDqSSrHnCHsrssCRZrfRhHLfH',\n 'HHzcWqNPmZcqFHPZGBdMRBMDlllWpRDJMl',\n 'tTgSvPhbMDJlbJQb',\n 'SCTtvtSPftswjvPhTgffVqmGZLmqmCCcqZzZHFNznF',\n 'QNpppRrdZvdgzpQZNpgRRgbSwmDDvFGGqwJSsvSGSqGG',\n 'HchWBMcBVnnWcHPjHhWcjHTqJFDGMSSqDMwJJbGwSsGGSb',\n 'tcCVcBjPjhnWlFrCFNZflQNr',\n 'HsVMrqrPqvvgprSrLG',\n 'THJWBJDwRFvBgGSzgF',\n 'DmhfHnmQncMNVMqPqbcd',\n 'SqZmMJqvHJBhHJLp',\n 'wsgTVTSsPssjjFVrTrFlhLhCFlBBnHplHLLHfF',\n 'zgggdwPrRrsrjjgRwVwdwdQTmvMvZqDZbWqqMSNWNbGQbGZN',\n 'fBDBfLZnTLZVVmmDcQMDDV',\n 'jPFtJFpHpJqfJFrptwrJdRWRWNpQVmQRMWNVVVNVvQ',\n 'zHwJgtFrTlslfghf',\n 'wMwTttCCTTSTfBmPzPVZnPZLVVtbnN',\n 'ldRRRlRHggGcvcRbZsNzvBVWnnPBWv',\n 'hdlJHgpcJccJhQdJrcrhwFMpDqCwCMBqjSqjqpTC',\n 'fJfnwJJnnHJgJHTgjsjDccNjcbgNjm',\n 'VdLqRRqGVqpRrPpppMBjDNmDctdsBlNjmZdZ',\n 'PDQvPQSvpGDrTwfJzzfFnTnS',\n 'MnHvnHHMRMzPTlDLPPRGcl',\n 'dFnfhFVwhdBPBfGWlPcP',\n 'JNrQFsnVtwsgvNzvmMjpzS',\n 'BZVPFpNpcNZpmRRPpzcVNhLLnssDjjDGnqjjLDFDjq',\n 'mMJbJvtJQQHlJDGCDnjvChDSsv',\n 'MQwWJHdQwWrJltQrgfNPmfBcBrpBpZ',\n 'ZWZqDsZZqWsWvWLPwPbpHjdtSbSjSCSPPSCp',\n 'MFVNMLmFmNzcTTrFrLbjdjbpCdCSbTCShRSd',\n 'czNzLrznlGNNrMzMwDlJwJWDwJwqJDvW',\n 'GlgchGGVShlQcQfDhzZrNFnFNFNjFzNFcn',\n 'dwCtpwHTtPTWpdFNfJJzRzvJNR',\n 'tLBBmWHftBttPbLwCHWTsSSQVglqgMsMBDSMGlQS',\n 'RDDDGhGfvPPTTPTThn',\n 'ZFLMmjpCpfMZzFqmqsCmPjdVBlVBVnWBPNTVbnTV',\n 'zHqJMCzLvftRQQHG',\n 'nTcbnvPsvdvFzpczVZmMGg',\n 'BCCJwSDqhQLJmMMpzGZVFVFB',\n 'qhrwJwrJrrzJNqwWLsTTnlTlbnsvbstWsW',\n 'vHRbqPJZvRPZhShJvTZllZtgzwlfBGBlsm',\n 'VdQjVVCssQVrWrQmTBgBzglmgCBGml',\n 'NnpQNpcFpNWshPRLsbSFsH',\n 'cVGmVZVwVVMLdvcRttTdbB',\n 'ppCQrwzHBtLrttLb',\n 'hsFJQzFWCpCqjZGVwlhlPP',\n 'HDGRzgWhgfzVWfRpspwRwbwStSwt',\n 'ZBPPPmmmTMQMPcZrBmSptSbbQCwtlsNqCwjC',\n 'TTLMMmZvPTrMZvFMmcmvrTccDDnfGHJgJhHhnhnLfVhSWDJz',\n 'pNrpjzthZPnGrzzWbJLLLbbJZwgSvZCV',\n 'MQsFFFDTfMNfRFfBFMdBdwLSvgbSTVCqTgVbbTLvwV',\n 'BQlQDMFccQsNmWpPGhpcjr',\n 'CTgGRCRglLlLTllL',\n 'vMJmhPJcmPBMvhqPDnNNqlWnwDWqsRQs',\n 'hcBfcJRPFfvvRvJZBrfMPZdpbSSGtSdtdgtzzSZzbV',\n 'NQLzNzzJcrLrSgZSSGgZrR',\n 'bTsjqHvcmTHvjgZGDvDpGZRfpg',\n 'WqTVPbdnMlLJncQC',\n 'hZLBrqLGLMbzLLBhfMMrnnNJlnNnlnJJNNdCJdzN',\n 'TWTsWqvtvpTSgRHpVFdjgjCPdgJlCFCFnF',\n 'swSTsTwpTVRmVRRRqMDMfqfDwLfbrhLr',\n 'NTQHWNQWrQwSTDWlcPPBHZBZbPgZJZ',\n 'nmfjCRCfRhndJcjBbcbcbg',\n 'nsppRfssfzCnqgzTzrwTwQVTWM',\n 'mFjQmDGmbbGjmChrCwdQBHCHWh',\n 'qvZZnPvvnngMpnlqpMZnpsTgWHTRCWrVdVDBWRhHBrhHDHhd',\n 'vqZgnnqgLvqlPllpnjGDjmNjNLfftftLFD',\n 'rfGsjsMNnFMMFddMsttDMgLHGlmJLCPPmHHGmHPlmm',\n 'vZcbhQbrRbVZPJLwPTgCLlgb',\n 'hchzSBqzQvphnWnrjFdWMqff',\n 'WmfPWfVsfqszRDqPqgpvHhvdwddGMmGghM',\n 'QtTrtTcSBjtQCctStrTrzhpwjGvGHhngwMHGHvMv',\n 'TtTQlQFcSSJlcccBbltQQTTRsPZDsWzRFzWFzPNfsssLPs',\n 'QpNNMrjcNMccGNdvLBBlBsBjnsnF',\n 'tTSqbbbqCtWWCTWSVTmmCJPwVwnwvFPnsPVnnPfddlvf',\n 'HmhJTZWqHqCJJJltqpNGRgzZDcQNrgzDGM',\n 'HcLVRhhTRsLRRVjslTscqNQmVNQQgQttqNwNZtmw',\n 'nJdBJJhfFPSCbJBJBMbzFbFgmNmtgmvgNgnntNwZQQNNmw',\n 'bMbPzJbzCBPrJfdfbBbdCrGHlLTTpWjsGhGTTRTRlc',\n 'sJCCpQJQCrfCfnSCrT',\n 'vmqgNggzgmZqmPShqBhThfhDhjDhhB',\n 'RZNzHRzZSQwHwHVVWc',\n 'jtVtvVHgvjJbHjjQPMZdCcwlMdNbdFlNlc',\n 'WppSBDzGfBzTBqQWwCFMlwZMwMcZ',\n 'zBfnqpRGnSSqTfqpTpSnnHQsjJgQvPJshHtHVh',\n 'qJMRMcPPVzVhmsDWfhWT',\n 'BglQBNlgZtQBHLHHBnTjWSWmFmwDmWjSsnmF',\n 'BdHvgHBvBtZbTpJRPCdcdpGrGJ',\n 'pcGcWGWlvQZpzmDbgFmz',\n 'HqqnddDdddjzTTggjZgFtT',\n 'sHqRwrRsJswLHrMLLRJdqNVVrGffPGWcvSSWlDfGfc',\n 'lttTbgRvqvtQRhjLzGjLVh',\n 'JJfrHfrdffZJQmZhLLZVVwFj',\n 'sBjCfSNNTTqnCnqD',\n 'qMtWjSrHftGfjqrJGMqzVzFmBBrzQQwzgBVQVQ',\n 'LDChPbThbTcTpCTcnPPQPQzVPvvzQBBWgVBQ',\n 'ZLspppLpdZZttdHttqdWMf',\n 'htJcJhpMQQWjhNWdJQSCFCTvFBPCTDlMmDCFlM',\n 'jjbbsfjwZbLGVVqHCFPvmvDmClTfmP',\n 'zjVVRwZwnRJtnNQt',\n 'PCPVSzLMMRqGwgMmHmQmDQ',\n 'slrrbZZgsfcdsgdhrHFGQHQFwvfwFwDGTv',\n 'NclhgpctrrNjllcZdcrpZnPPqzLLSSLqJLtJWCWzCn',\n 'PBLSBPVBwpTVppfT',\n 'lZCqQQtCQGPJJPtPHHwTwZTTZpwHsfRH',\n 'mCtGFDqFGDGQjPGqjJMMlqPgdWgSSgBWWcWzLdgvMzgBMg',\n 'cLBrfchhFBcnrgvqvPGvvwSS',\n 'QpzpstDDZMwDZqwh',\n 'WzpbWTjsbhpQtjThsjJFRNLnfLbfRLRBLlFB',\n 'ngnWWqnfgqtfsrWftqsrFWPSdSSdRCTHRSwpRGTfGmSG',\n 'VhJhVczJQcvbvvlhBpvlPdmlwHRTGHSRPTSCRGTd',\n 'zVcBcMhzcVcvMJJJDpWrsqrtrWLWsgZZFtFD',\n 'fbccrJlrffTwJDJTtBtB',\n 'hRNNFddsgsFPLLRVVwthMCQTtBwrtT',\n 'jrsPGLNjsqPlvGbZbcvScz',\n 'HFPmmgQrQzFgrLVPPrLFPNDJNJzzcGbJTbsSzbGGNc',\n 'MtvCMhJBdnMhwfhlwnfBfMDCDSjGbqDNGNGqGjDDjsDC',\n 'wwnhhdtBBptwdlhlRntRldJFVWRFPmWZFmHRZZmFQPRWmm',\n 'WrHNNTBNTTTBwHHcSTrBnSzJPFnpJfpLVfpDVdJLFJLFdD',\n 'hRthQvhRQlQmDpfVJFdLlLLj',\n 'hMZZbCMvgQgBTBGNGDcWbr',\n 'HvQjMRMTzjsCQzHTCFfVVZLPVvfLfPVpZg',\n 'GtlbBtSGlSbDdStrhSFCPVDgZgLLgPpPJWPF',\n 'rmwSbcbcdbrbGljQjCzCCwnHRqQT',\n 'bbgNSHPPgnmMMZtNcMpp',\n 'VFzFDFVtCBFDCVFdMlhZMhdhmhmplwZL',\n 'JVtBjGRFRttFCGDFGJJDQQgSgTWPPfSSfWbQnHvPWW',\n 'NvdBpwNvGNFvpBGGBmLFblrtVTwDttlhtlblfQbQ',\n 'SCMMsWCMSRZCqsmWcRWgRRsVtlrtrQbtQftThrQTQtqrtQ',\n 'WRscMgZJJCJWzZgSWNLFdBNHGzpFGmBFFG',\n 'qghqRVzhLNRLqzLhVztgQdLFdrccCnSpcZdSZcTS',\n 'DwvmHDJDsmvDGmHbQBlslMDDCrTCnppTndrdBrFnFTSdCCnZ',\n 'GGwJHlGwwvMHJljwwDMVtfhtWWhzqVPPjfQRqz',\n 'BsDMPrqPzsDwwCLGmqjpjm',\n 'VfFJQlVQcvfwJLJCJppLNp',\n 'vfcSHCglCgbgbbbFvSlvQfPsrsZrPzZzDWWStPhtZPDP',\n 'gjMsnFgbnllbjMfSZBHHtpHvvvFwhv',\n 'DDRZDLdVCLNLJwBCShQHHwwBzv',\n 'DNJNTLJRTqWmjWZnjrlmjW',\n 'ZTSVSFZCLTnvzfzqvnNL',\n 'PfPcJljfMpvtlnztvQtw',\n 'PsJMMMWpGcgMHMfjRBThrgrTbBSBFdVSTF',\n 'GccBRWjgtQqsTcVQcw',\n 'JhJCMJHPLffMChlfLCLHMMrDQsQqDVQsqTDbVvGqDhhzqD',\n 'dHGlfnCHlJrNmtdptggpmW',\n 'wnDDSBCSBSDLzLLmHLrlwlmpTTqzGJJfpjfjNpfqbpbdpG',\n 'MMRhFWWRvZPZRZQhFZMVhVSNqjqpNQffJjbjfbjdTJbp',\n 'VMMsWcZRWgMPvRSrSHmsrrtwSHnr',\n 'TQchPTgjBcNgPHhhThtNzQdzdsCmRDJnzCCmCdCm',\n 'vllVwrfvbSBVFSbVGwlrFGlqRCDzRJCJdzvJRzsdLDDLsdCm',\n 'VrMrqSWbfqWbBhhpWjNTttpjjP',\n 'rsfvSHHcvwrMPtcQZgnDhGdvJzngLzzJLJ',\n 'lWmVlfbCCNFCpBCmTpFFJgzhDLGhmRGhLhmGdgGR',\n 'pNBfflVTNpfWTWbWWbjNVqBsscqsqrZSwMwZrMPZSZrZrs',\n 'PJPHPJmhhHhlHPQgCndngTbWnqCWDGTD',\n 'tSwccFpFqwMcFbGFWvnnWvCW',\n 'MwLwLMSwpNBBtctSctfhZHJQhhqmlRlZRNPH',\n 'GNzdZhVGvtGZVVgGgtfHHWhpLPPpLWpWWnHf',\n 'RjwqRcDTvCrWJWWnlLnnqn',\n 'DbrDDwwBwjjsrbDTRTBmwgZmgGgmdttvQvQFSQGFtg',\n 'jRgcZRfhmHfZjPZRgHffLFTzzddBTBBFzLDZzBTF',\n 'VtsJwSbcStlwMqbtwbvWBWddGGdrFDDWJWrzTT',\n 'VwsQQvlbVbVlbNllVwbMmmpnjpfChfQpnhfcCCnH',\n 'dFnFjWjTQTFzFWPWPgqhRQRqgVhRqfRqQJ',\n 'bStrbpmNGHSrBDmrNBtHBhMVLLqLqVVglrllPVLgPg',\n 'tSsbBDmBbbGmmSHDbtmHbtNCjnzscZccjnPcTcdzWcvjswFz',\n 'lFCjDhqggMlDvMhFDgqFFzHHwHwwwTpLBwmwqmmpBpwT',\n 'GPdPnStGncQGNStZPpBmVZmRmfzTRmVVfL',\n 'tWtNdPWzsbtMDCbrCbrjrv',\n 'BJHMgLlcMTBLCtbqmMDGppmmMM',\n 'ZFPsrrdvwrNvrdNZsvhrrzzRSmJRbJSmbztsmpRSSm',\n 'NwhfPZFNdFQPVQdvZFNgjglJLTCQngQWllBcTT',\n 'jGlQQvQvpRQRGfnPLfcfGTnP',\n 'BMqmdBVBwmFdVMFZdcTPqgLnnggTTLSzPS',\n 'FVtMMVcbZVrcZMQCHjHWJJCJDvrW',\n 'rPPwVwbpRbbVlllTLCTRqTLL',\n 'dNdZssBBCBszHsjhDTQgqLDvlTgDZgll',\n 'dSsCNNHMdsdWWWmpGfmPFS',\n 'rzCLrsjgZjwcwSZc',\n 'wNBNRJpRltHNWWRHBlGlJtRcTZSVBmZDVqZTfBVVTDTVTD',\n 'NWPtGJPNGWHvpvtwvWgzQvdvQQzhnsnCvCLM',\n 'HHbJhzddMPbPgnDWbZ',\n 'BLnjLNvBrrcvvvwnwLrnqrgpPRgRNCWgZDPPpDgRpRWp',\n 'jtsBqScStfJQnnVF',\n 'QVFSVgQFZZQlQqQSlgQpRppSbRTSTppJJbRpLb',\n 'cGwCDwjrnrGvzBzGnwwvDBjnpLbsLTTqRPbsJPMJMWpPns',\n 'tcGzrCdtGdQmVZqVNQ',\n 'RtTRhncVMTVccShRTctLdfPdJpLPqJhZphHpJs',\n 'BzssCmFNWWqWwqwPLH',\n 'svzvvsmmFBmsggrGlGMVSMtMRRncSQScRRRl',\n 'rmmqrQQwLbbGrrGr',\n 'cNJzzzWtWmLCGGbLWWbv',\n 'cVtMppchzMBVMcNJcMsRwqZFMlgmggmRgg',\n 'mQsQBHFMrbddbRqH',\n 'NzhcQNfNNtzvWwZdSrgbrprPrwLbgb',\n 'zcJVhTtNNcvcfVZmBmQMGMMljTCmlB',\n 'FlldqjSlCgfvPFfvFF',\n 'rbnDtVBMbprTsbVVcTDTrpMcmNwgHPgghTmNfLwvfPNLwhdT',\n 'drMppdnbbtQDBtbnsBbcrrtbSqSSRCjlQZWllllSRlWRGCCC',\n 'nqdCsqbbwdsrHFVJHcwFTc',\n 'jPPjtWjPWgRltRLsBRrNpHFDHVFWVVJNNHrD',\n 'fgllPGQjBffLjtzSsqvbSSzGvnhS',\n 'zsVBzMfHHnzlwwVlqcJJFT',\n 'ZzRLvLDzQzTmlWlqWRWF',\n 'GbQQvpGvSSpjdQjSQZpQZGLfrgBCsHzrdtCsnfCBHsBgdH',\n 'zBLbLWzqqwLMnMZTnHlnsHTvFlFHNT',\n 'fjhdcrjjdVdrGSmmdfccGclPvlvPTlGHTFgNvNgqFFvg',\n 'pmmcrcRrjSVJchqVccjpRwZMDwCJQBbLDCCbwBWLzL',\n 'TDMBgBgLlcjBfMfcVJVmGnnJjvPVCPVv',\n 'zzptqHstJqFzzdJJZNvNpvNpnNvGnNZm',\n 'dHszrWQhdzHQqdztwQBLSfglfDbfJlJTLg',\n 'VTmvrldtGGwmlvmGDHlLnFDCCplFQHLH',\n 'ssgjzSzzJCQSSFVVQF',\n 'WsRWhgVqRtfvwcddhc',\n 'bdlDwznhnNlffMcPTPfzzQ',\n 'srCRGRrZCmVTBfBBfTQcZb',\n 'brSrrGvRVvWmRsrHrWSbjNJwdDFhnNlwtlnSdnhN',\n 'QQqqRfdQQSdjgPmZfBmmPgRhphphJtLmJhTJJhVbTtLhTb',\n 'vvlNGzDDDcslcsGDlWHtCFVpcCbThFTtbJFtCh',\n 'DrMGlzMVwNGWsWMHDMvlzlMfZdQdQPZfSZRfdrPBfqRZgj',\n 'qVHfHNJCHVvvFFbfFlHHnCQQDhLnhhhPZrZnPZPn',\n 'mSMszWRMQmhqrnZL',\n 'GjtzjSSdRGSjsRtdRMttgGgsqqFNfFcGVvVVvlbHFFGFVFwb']"
     },
     "execution_count": 83,
     "metadata": {},
     "output_type": "execute_result"
    }
   ],
   "source": [
    "parsed_data"
   ],
   "metadata": {
    "collapsed": false,
    "pycharm": {
     "name": "#%%\n"
    }
   }
  },
  {
   "cell_type": "code",
   "execution_count": 87,
   "outputs": [
    {
     "data": {
      "text/plain": "[['DPstqDdrsqdDtqrFDJDDrmtsJHflSJCLgCphgHHgRHJCRRff',\n  'BcBGcQzVBVZcvznTTTvZcGTpCRRRfRCggLflHlhhCZpZCj',\n  'vGQnQvnzTzNTTbVnzGBqMqwqDLdPtMmbwqqLLM'],\n ['wLRFRqvFsFRjfrHddbdbjzdH',\n  'lcsnSJPSSVVlGmGrHzbbrGNrdzbz',\n  'mSmlnnPlmJmncVDSlSZSlmLBCvtwBvtLCqqswsDBCTWW'],\n ['pfqPrPgmmhvqdlsdWq', 'nfjHLJfZcLbVtQWWtndhls', 'CzJJFLzRzfDwrmggpC']]"
     },
     "execution_count": 87,
     "metadata": {},
     "output_type": "execute_result"
    }
   ],
   "source": [
    "iteration_parsed_data = iter(parsed_data)\n",
    "parsed_datav2 = [list(islice(iteration_parsed_data, elem)) for elem in [3] * int(len(parsed_data)/3)]\n",
    "parsed_datav2[:3]"
   ],
   "metadata": {
    "collapsed": false,
    "pycharm": {
     "name": "#%%\n"
    }
   }
  },
  {
   "cell_type": "code",
   "execution_count": 88,
   "outputs": [
    {
     "name": "stdout",
     "output_type": "stream",
     "text": [
      "value=2444\n"
     ]
    }
   ],
   "source": [
    "value = 0\n",
    "for a_group in parsed_datav2:\n",
    "    all_values_stored = [{} for i in range(3)]\n",
    "    for i,a_line in enumerate(a_group[:3]):\n",
    "        for char in a_line:\n",
    "            all_values_stored[i][char] = all_values_stored[i].get(char, 0) + 1\n",
    "\n",
    "    common_letter = functools.reduce(lambda x, y: x & set(y.keys()),  all_values_stored, set(string.ascii_lowercase + string.ascii_uppercase))\n",
    "    assert len(common_letter)==1\n",
    "    value +=letter_values[list(common_letter)[0]]\n",
    "print(f\"{value=}\")"
   ],
   "metadata": {
    "collapsed": false,
    "pycharm": {
     "name": "#%%\n"
    }
   }
  },
  {
   "cell_type": "code",
   "execution_count": null,
   "outputs": [],
   "source": [],
   "metadata": {
    "collapsed": false,
    "pycharm": {
     "name": "#%%\n"
    }
   }
  }
 ],
 "metadata": {
  "kernelspec": {
   "display_name": "Python 3",
   "language": "python",
   "name": "python3"
  },
  "language_info": {
   "codemirror_mode": {
    "name": "ipython",
    "version": 2
   },
   "file_extension": ".py",
   "mimetype": "text/x-python",
   "name": "python",
   "nbconvert_exporter": "python",
   "pygments_lexer": "ipython2",
   "version": "2.7.6"
  }
 },
 "nbformat": 4,
 "nbformat_minor": 0
}